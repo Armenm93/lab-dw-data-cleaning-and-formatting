{
  "cells": [
    {
      "cell_type": "markdown",
      "id": "25d7736c-ba17-4aff-b6bb-66eba20fbf4e",
      "metadata": {
        "id": "25d7736c-ba17-4aff-b6bb-66eba20fbf4e"
      },
      "source": [
        "# Lab | Data Cleaning and Formatting"
      ]
    },
    {
      "cell_type": "markdown",
      "id": "d1973e9e-8be6-4039-b70e-d73ee0d94c99",
      "metadata": {
        "id": "d1973e9e-8be6-4039-b70e-d73ee0d94c99"
      },
      "source": [
        "In this lab, we will be working with the customer data from an insurance company, which can be found in the CSV file located at the following link: https://raw.githubusercontent.com/data-bootcamp-v4/data/main/file1.csv\n"
      ]
    },
    {
      "cell_type": "markdown",
      "id": "31b8a9e7-7db9-4604-991b-ef6771603e57",
      "metadata": {
        "id": "31b8a9e7-7db9-4604-991b-ef6771603e57"
      },
      "source": [
        "# Challenge 1: Data Cleaning and Formatting"
      ]
    },
    {
      "cell_type": "markdown",
      "id": "81553f19-9f2c-484b-8940-520aff884022",
      "metadata": {
        "id": "81553f19-9f2c-484b-8940-520aff884022"
      },
      "source": [
        "## Exercise 1: Cleaning Column Names"
      ]
    },
    {
      "cell_type": "markdown",
      "id": "34a929f4-1be4-4fa8-adda-42ffd920be90",
      "metadata": {
        "id": "34a929f4-1be4-4fa8-adda-42ffd920be90"
      },
      "source": [
        "To ensure consistency and ease of use, standardize the column names of the dataframe. Start by taking a first look at the dataframe and identifying any column names that need to be modified. Use appropriate naming conventions and make sure that column names are descriptive and informative.\n",
        "\n",
        "*Hint*:\n",
        "- *Column names should be in lower case*\n",
        "- *White spaces in column names should be replaced by `_`*\n",
        "- *`st` could be replaced for `state`*"
      ]
    },
    {
      "cell_type": "code",
      "execution_count": 8,
      "id": "5810735c-8056-4442-bbf2-dda38d3e284a",
      "metadata": {
        "id": "5810735c-8056-4442-bbf2-dda38d3e284a"
      },
      "outputs": [
        {
          "data": {
            "text/plain": [
              "Index(['custateomer', 'state', 'gender', 'education',\n",
              "       'custateomer_lifetime_value', 'income', 'monthly_premium_auto',\n",
              "       'number_of_open_complaints', 'policy_type', 'vehicle_class',\n",
              "       'total_claim_amount'],\n",
              "      dtype='object')"
            ]
          },
          "execution_count": 8,
          "metadata": {},
          "output_type": "execute_result"
        }
      ],
      "source": [
        "import pandas as pd \n",
        "import numpy as np \n",
        "\n",
        "url = 'https://raw.githubusercontent.com/data-bootcamp-v4/data/main/file1.csv'\n",
        "df = pd.read_csv(url)\n",
        "df.columns\n",
        "\n",
        "\n",
        "df.columns = df.columns.str.lower()  # Convert column names to lowercase\n",
        "df.columns = df.columns.str.replace(' ', '_')  # Replace white spaces with underscores\n",
        "df.columns = df.columns.str.replace('st', 'state') # Replace 'st' with 'state'\n",
        "\n",
        "df.columns\n"
      ]
    },
    {
      "cell_type": "markdown",
      "id": "9cb501ec-36ff-4589-b872-6252bb150316",
      "metadata": {
        "id": "9cb501ec-36ff-4589-b872-6252bb150316"
      },
      "source": [
        "## Exercise 2: Cleaning invalid Values"
      ]
    },
    {
      "cell_type": "markdown",
      "id": "771fdcf3-8e20-4b06-9c24-3a93ba2b0909",
      "metadata": {
        "id": "771fdcf3-8e20-4b06-9c24-3a93ba2b0909"
      },
      "source": [
        "The dataset contains columns with inconsistent and incorrect values that could affect the accuracy of our analysis. Therefore, we need to clean these columns to ensure that they only contain valid data.\n",
        "\n",
        "Note that this exercise will focus only on cleaning inconsistent values and will not involve handling null values (NaN or None).\n",
        "\n",
        "*Hint*:\n",
        "- *Gender column contains various inconsistent values such as \"F\", \"M\", \"Femal\", \"Male\", \"female\", which need to be standardized, for example, to \"M\" and \"F\".*\n",
        "- *State abbreviations be can replaced with its full name, for example \"AZ\": \"Arizona\", \"Cali\": \"California\", \"WA\": \"Washington\"*\n",
        "- *In education, \"Bachelors\" could be replaced by \"Bachelor\"*\n",
        "- *In Customer Lifetime Value, delete the `%` character*\n",
        "- *In vehicle class, \"Sports Car\", \"Luxury SUV\" and \"Luxury Car\" could be replaced by \"Luxury\"*"
      ]
    },
    {
      "cell_type": "code",
      "execution_count": 10,
      "id": "3f8ee5cb-50ab-48af-8a9f-9a389804033c",
      "metadata": {
        "id": "3f8ee5cb-50ab-48af-8a9f-9a389804033c"
      },
      "outputs": [
        {
          "name": "stderr",
          "output_type": "stream",
          "text": [
            "/var/folders/jn/pqdsw5cd4ll09gfvv3n2v0kw0000gr/T/ipykernel_55465/1377159726.py:3: FutureWarning: A value is trying to be set on a copy of a DataFrame or Series through chained assignment using an inplace method.\n",
            "The behavior will change in pandas 3.0. This inplace method will never work because the intermediate object on which we are setting values always behaves as a copy.\n",
            "\n",
            "For example, when doing 'df[col].method(value, inplace=True)', try using 'df.method({col: value}, inplace=True)' or df[col] = df[col].method(value) instead, to perform the operation inplace on the original object.\n",
            "\n",
            "\n",
            "  df['gender'].replace({'femal': 'f', 'female': 'f', 'male': 'm'}, inplace=True)  # Standardize gender values\n"
          ]
        },
        {
          "ename": "KeyError",
          "evalue": "'customer_lifetime_value'",
          "output_type": "error",
          "traceback": [
            "\u001b[0;31m---------------------------------------------------------------------------\u001b[0m",
            "\u001b[0;31mKeyError\u001b[0m                                  Traceback (most recent call last)",
            "File \u001b[0;32m/Library/Frameworks/Python.framework/Versions/3.12/lib/python3.12/site-packages/pandas/core/indexes/base.py:3805\u001b[0m, in \u001b[0;36mIndex.get_loc\u001b[0;34m(self, key)\u001b[0m\n\u001b[1;32m   3804\u001b[0m \u001b[39mtry\u001b[39;00m:\n\u001b[0;32m-> 3805\u001b[0m     \u001b[39mreturn\u001b[39;00m \u001b[39mself\u001b[39;49m\u001b[39m.\u001b[39;49m_engine\u001b[39m.\u001b[39;49mget_loc(casted_key)\n\u001b[1;32m   3806\u001b[0m \u001b[39mexcept\u001b[39;00m \u001b[39mKeyError\u001b[39;00m \u001b[39mas\u001b[39;00m err:\n",
            "File \u001b[0;32mindex.pyx:167\u001b[0m, in \u001b[0;36mpandas._libs.index.IndexEngine.get_loc\u001b[0;34m()\u001b[0m\n",
            "File \u001b[0;32mindex.pyx:196\u001b[0m, in \u001b[0;36mpandas._libs.index.IndexEngine.get_loc\u001b[0;34m()\u001b[0m\n",
            "File \u001b[0;32mpandas/_libs/hashtable_class_helper.pxi:7081\u001b[0m, in \u001b[0;36mpandas._libs.hashtable.PyObjectHashTable.get_item\u001b[0;34m()\u001b[0m\n",
            "File \u001b[0;32mpandas/_libs/hashtable_class_helper.pxi:7089\u001b[0m, in \u001b[0;36mpandas._libs.hashtable.PyObjectHashTable.get_item\u001b[0;34m()\u001b[0m\n",
            "\u001b[0;31mKeyError\u001b[0m: 'customer_lifetime_value'",
            "\nThe above exception was the direct cause of the following exception:\n",
            "\u001b[0;31mKeyError\u001b[0m                                  Traceback (most recent call last)",
            "\u001b[1;32m/Users/armeniphone/Desktop/Ironhack/week_2_pandas/lab-dw-data-cleaning-and-formatting/lab-dw-data-cleaning-and-formatting.ipynb Cell 10\u001b[0m line \u001b[0;36m1\n\u001b[1;32m     <a href='vscode-notebook-cell:/Users/armeniphone/Desktop/Ironhack/week_2_pandas/lab-dw-data-cleaning-and-formatting/lab-dw-data-cleaning-and-formatting.ipynb#X11sZmlsZQ%3D%3D?line=13'>14</a>\u001b[0m df[\u001b[39m'\u001b[39m\u001b[39meducation\u001b[39m\u001b[39m'\u001b[39m] \u001b[39m=\u001b[39m df[\u001b[39m'\u001b[39m\u001b[39meducation\u001b[39m\u001b[39m'\u001b[39m]\u001b[39m.\u001b[39mstr\u001b[39m.\u001b[39mreplace(\u001b[39m'\u001b[39m\u001b[39mbachelors\u001b[39m\u001b[39m'\u001b[39m, \u001b[39m'\u001b[39m\u001b[39mbachelor\u001b[39m\u001b[39m'\u001b[39m, case\u001b[39m=\u001b[39m\u001b[39mFalse\u001b[39;00m)  \u001b[39m# Replace 'Bachelors' with 'Bachelor'\u001b[39;00m\n\u001b[1;32m     <a href='vscode-notebook-cell:/Users/armeniphone/Desktop/Ironhack/week_2_pandas/lab-dw-data-cleaning-and-formatting/lab-dw-data-cleaning-and-formatting.ipynb#X11sZmlsZQ%3D%3D?line=15'>16</a>\u001b[0m \u001b[39m# Clean the 'customer_lifetime_value' column\u001b[39;00m\n\u001b[0;32m---> <a href='vscode-notebook-cell:/Users/armeniphone/Desktop/Ironhack/week_2_pandas/lab-dw-data-cleaning-and-formatting/lab-dw-data-cleaning-and-formatting.ipynb#X11sZmlsZQ%3D%3D?line=16'>17</a>\u001b[0m df[\u001b[39m'\u001b[39m\u001b[39mcustomer_lifetime_value\u001b[39m\u001b[39m'\u001b[39m] \u001b[39m=\u001b[39m df[\u001b[39m'\u001b[39;49m\u001b[39mcustomer_lifetime_value\u001b[39;49m\u001b[39m'\u001b[39;49m]\u001b[39m.\u001b[39mstr\u001b[39m.\u001b[39mreplace(\u001b[39m'\u001b[39m\u001b[39m%\u001b[39m\u001b[39m'\u001b[39m, \u001b[39m'\u001b[39m\u001b[39m'\u001b[39m)  \u001b[39m# Remove '%' character\u001b[39;00m\n\u001b[1;32m     <a href='vscode-notebook-cell:/Users/armeniphone/Desktop/Ironhack/week_2_pandas/lab-dw-data-cleaning-and-formatting/lab-dw-data-cleaning-and-formatting.ipynb#X11sZmlsZQ%3D%3D?line=18'>19</a>\u001b[0m \u001b[39m# Clean the 'vehicle_class' column\u001b[39;00m\n\u001b[1;32m     <a href='vscode-notebook-cell:/Users/armeniphone/Desktop/Ironhack/week_2_pandas/lab-dw-data-cleaning-and-formatting/lab-dw-data-cleaning-and-formatting.ipynb#X11sZmlsZQ%3D%3D?line=19'>20</a>\u001b[0m vehicle_class_mapping \u001b[39m=\u001b[39m {\n\u001b[1;32m     <a href='vscode-notebook-cell:/Users/armeniphone/Desktop/Ironhack/week_2_pandas/lab-dw-data-cleaning-and-formatting/lab-dw-data-cleaning-and-formatting.ipynb#X11sZmlsZQ%3D%3D?line=20'>21</a>\u001b[0m     \u001b[39m'\u001b[39m\u001b[39msports car\u001b[39m\u001b[39m'\u001b[39m: \u001b[39m'\u001b[39m\u001b[39mluxury\u001b[39m\u001b[39m'\u001b[39m,\n\u001b[1;32m     <a href='vscode-notebook-cell:/Users/armeniphone/Desktop/Ironhack/week_2_pandas/lab-dw-data-cleaning-and-formatting/lab-dw-data-cleaning-and-formatting.ipynb#X11sZmlsZQ%3D%3D?line=21'>22</a>\u001b[0m     \u001b[39m'\u001b[39m\u001b[39mluxury suv\u001b[39m\u001b[39m'\u001b[39m: \u001b[39m'\u001b[39m\u001b[39mluxury\u001b[39m\u001b[39m'\u001b[39m,\n\u001b[1;32m     <a href='vscode-notebook-cell:/Users/armeniphone/Desktop/Ironhack/week_2_pandas/lab-dw-data-cleaning-and-formatting/lab-dw-data-cleaning-and-formatting.ipynb#X11sZmlsZQ%3D%3D?line=22'>23</a>\u001b[0m     \u001b[39m'\u001b[39m\u001b[39mluxury car\u001b[39m\u001b[39m'\u001b[39m: \u001b[39m'\u001b[39m\u001b[39mluxury\u001b[39m\u001b[39m'\u001b[39m\n\u001b[1;32m     <a href='vscode-notebook-cell:/Users/armeniphone/Desktop/Ironhack/week_2_pandas/lab-dw-data-cleaning-and-formatting/lab-dw-data-cleaning-and-formatting.ipynb#X11sZmlsZQ%3D%3D?line=23'>24</a>\u001b[0m }\n",
            "File \u001b[0;32m/Library/Frameworks/Python.framework/Versions/3.12/lib/python3.12/site-packages/pandas/core/frame.py:4090\u001b[0m, in \u001b[0;36mDataFrame.__getitem__\u001b[0;34m(self, key)\u001b[0m\n\u001b[1;32m   4088\u001b[0m \u001b[39mif\u001b[39;00m \u001b[39mself\u001b[39m\u001b[39m.\u001b[39mcolumns\u001b[39m.\u001b[39mnlevels \u001b[39m>\u001b[39m \u001b[39m1\u001b[39m:\n\u001b[1;32m   4089\u001b[0m     \u001b[39mreturn\u001b[39;00m \u001b[39mself\u001b[39m\u001b[39m.\u001b[39m_getitem_multilevel(key)\n\u001b[0;32m-> 4090\u001b[0m indexer \u001b[39m=\u001b[39m \u001b[39mself\u001b[39;49m\u001b[39m.\u001b[39;49mcolumns\u001b[39m.\u001b[39;49mget_loc(key)\n\u001b[1;32m   4091\u001b[0m \u001b[39mif\u001b[39;00m is_integer(indexer):\n\u001b[1;32m   4092\u001b[0m     indexer \u001b[39m=\u001b[39m [indexer]\n",
            "File \u001b[0;32m/Library/Frameworks/Python.framework/Versions/3.12/lib/python3.12/site-packages/pandas/core/indexes/base.py:3812\u001b[0m, in \u001b[0;36mIndex.get_loc\u001b[0;34m(self, key)\u001b[0m\n\u001b[1;32m   3807\u001b[0m     \u001b[39mif\u001b[39;00m \u001b[39misinstance\u001b[39m(casted_key, \u001b[39mslice\u001b[39m) \u001b[39mor\u001b[39;00m (\n\u001b[1;32m   3808\u001b[0m         \u001b[39misinstance\u001b[39m(casted_key, abc\u001b[39m.\u001b[39mIterable)\n\u001b[1;32m   3809\u001b[0m         \u001b[39mand\u001b[39;00m \u001b[39many\u001b[39m(\u001b[39misinstance\u001b[39m(x, \u001b[39mslice\u001b[39m) \u001b[39mfor\u001b[39;00m x \u001b[39min\u001b[39;00m casted_key)\n\u001b[1;32m   3810\u001b[0m     ):\n\u001b[1;32m   3811\u001b[0m         \u001b[39mraise\u001b[39;00m InvalidIndexError(key)\n\u001b[0;32m-> 3812\u001b[0m     \u001b[39mraise\u001b[39;00m \u001b[39mKeyError\u001b[39;00m(key) \u001b[39mfrom\u001b[39;00m \u001b[39merr\u001b[39;00m\n\u001b[1;32m   3813\u001b[0m \u001b[39mexcept\u001b[39;00m \u001b[39mTypeError\u001b[39;00m:\n\u001b[1;32m   3814\u001b[0m     \u001b[39m# If we have a listlike key, _check_indexing_error will raise\u001b[39;00m\n\u001b[1;32m   3815\u001b[0m     \u001b[39m#  InvalidIndexError. Otherwise we fall through and re-raise\u001b[39;00m\n\u001b[1;32m   3816\u001b[0m     \u001b[39m#  the TypeError.\u001b[39;00m\n\u001b[1;32m   3817\u001b[0m     \u001b[39mself\u001b[39m\u001b[39m.\u001b[39m_check_indexing_error(key)\n",
            "\u001b[0;31mKeyError\u001b[0m: 'customer_lifetime_value'"
          ]
        }
      ],
      "source": [
        "# Clean the 'gender' column\n",
        "df['gender'] = df['gender'].str.lower()  # Convert all values to lowercase\n",
        "df['gender'].replace({'femal': 'f', 'female': 'f', 'male': 'm'}, inplace=True)  # Standardize gender values\n",
        "\n",
        "# Clean the 'state' column\n",
        "state_mapping = {\n",
        "    'az': 'arizona',\n",
        "    'cali': 'california',\n",
        "    'wa': 'washington'\n",
        "}\n",
        "df['state'] = df['state'].str.lower().map(state_mapping).fillna(df['state'])  # Map state abbreviations to full names\n",
        "\n",
        "# Clean the 'education' column\n",
        "df['education'] = df['education'].str.replace('bachelors', 'bachelor', case=False)  # Replace 'Bachelors' with 'Bachelor'\n",
        "\n",
        "# Clean the 'customer_lifetime_value' column\n",
        "df['customer_lifetime_value'] = df['customer_lifetime_value'].str.replace('%', '')  # Remove '%' character\n",
        "\n",
        "# Clean the 'vehicle_class' column\n",
        "vehicle_class_mapping = {\n",
        "    'sports car': 'luxury',\n",
        "    'luxury suv': 'luxury',\n",
        "    'luxury car': 'luxury'\n",
        "}\n",
        "df['vehicle_class'] = df['vehicle_class'].str.lower().map(vehicle_class_mapping).fillna(df['vehicle_class'])  # Map vehicle class values\n",
        "\n",
        "# Display the cleaned DataFrame\n",
        "print(df)\n"
      ]
    },
    {
      "cell_type": "markdown",
      "id": "85ff78ce-0174-4890-9db3-8048b7d7d2d0",
      "metadata": {
        "id": "85ff78ce-0174-4890-9db3-8048b7d7d2d0"
      },
      "source": [
        "## Exercise 3: Formatting data types"
      ]
    },
    {
      "cell_type": "markdown",
      "id": "b91c2cf8-79a2-4baf-9f65-ff2fb22270bd",
      "metadata": {
        "id": "b91c2cf8-79a2-4baf-9f65-ff2fb22270bd"
      },
      "source": [
        "The data types of many columns in the dataset appear to be incorrect. This could impact the accuracy of our analysis. To ensure accurate analysis, we need to correct the data types of these columns. Please update the data types of the columns as appropriate."
      ]
    },
    {
      "cell_type": "markdown",
      "id": "43e5d853-ff9e-43b2-9d92-aef2f78764f3",
      "metadata": {
        "id": "43e5d853-ff9e-43b2-9d92-aef2f78764f3"
      },
      "source": [
        "It is important to note that this exercise does not involve handling null values (NaN or None)."
      ]
    },
    {
      "cell_type": "markdown",
      "id": "329ca691-9196-4419-8969-3596746237a1",
      "metadata": {
        "id": "329ca691-9196-4419-8969-3596746237a1"
      },
      "source": [
        "*Hint*:\n",
        "- *Customer lifetime value should be numeric*\n",
        "- *Number of open complaints has an incorrect format. Look at the different values it takes with `unique()` and take the middle value. As an example, 1/5/00 should be 5. Number of open complaints is a string - remember you can use `split()` to deal with it and take the number you need. Finally, since it should be numeric, cast the column to be in its proper type.*"
      ]
    },
    {
      "cell_type": "code",
      "execution_count": null,
      "id": "eb8f5991-73e9-405f-bf1c-6b7c589379a9",
      "metadata": {
        "id": "eb8f5991-73e9-405f-bf1c-6b7c589379a9"
      },
      "outputs": [],
      "source": [
        "# Convert 'customer_lifetime_value' to numeric\n",
        "df['customer_lifetime_value'] = pd.to_numeric(df['customer_lifetime_value'], errors='coerce')\n",
        "\n",
        "# Correct the format of 'number_of_open_complaints' and convert it to numeric\n",
        "df['number_of_open_complaints'] = df['number_of_open_complaints'].apply(lambda x: x.split('/')[0] if isinstance(x, str) else x)\n",
        "df['number_of_open_complaints'] = pd.to_numeric(df['number_of_open_complaints'], errors='coerce')\n",
        "\n",
        "# Display the updated data types of the columns\n",
        "print(df.dtypes)\n"
      ]
    },
    {
      "cell_type": "markdown",
      "id": "14c52e28-2d0c-4dd2-8bd5-3476e34fadc1",
      "metadata": {
        "id": "14c52e28-2d0c-4dd2-8bd5-3476e34fadc1"
      },
      "source": [
        "## Exercise 4: Dealing with Null values"
      ]
    },
    {
      "cell_type": "markdown",
      "id": "34b9a20f-7d32-4417-975e-1b4dfb0e16cd",
      "metadata": {
        "id": "34b9a20f-7d32-4417-975e-1b4dfb0e16cd"
      },
      "source": [
        "Identify any columns with null or missing values. Identify how many null values each column has. You can use the `isnull()` function in pandas to find columns with null values.\n",
        "\n",
        "Decide on a strategy for handling the null values. There are several options, including:\n",
        "\n",
        "- Drop the rows or columns with null values\n",
        "- Fill the null values with a specific value (such as the column mean or median for numerical variables, and mode for categorical variables)\n",
        "- Fill the null values with the previous or next value in the column\n",
        "- Fill the null values based on a more complex algorithm or model (note: we haven't covered this yet)\n",
        "\n",
        "Implement your chosen strategy to handle the null values. You can use the `fillna()` function in pandas to fill null values or `dropna()` function to drop null values.\n",
        "\n",
        "Verify that your strategy has successfully handled the null values. You can use the `isnull()` function again to check if there are still null values in the dataset.\n",
        "\n",
        "Remember to document your process and explain your reasoning for choosing a particular strategy for handling null values.\n",
        "\n",
        "After formatting data types, as a last step, convert all the numeric variables to integers."
      ]
    },
    {
      "cell_type": "code",
      "execution_count": 11,
      "id": "f184fc35-7831-4836-a0a5-e7f99e01b40e",
      "metadata": {
        "id": "f184fc35-7831-4836-a0a5-e7f99e01b40e"
      },
      "outputs": [
        {
          "name": "stdout",
          "output_type": "stream",
          "text": [
            "There are no null values in the dataset after handling.\n"
          ]
        }
      ],
      "source": [
        "null_columns = df.columns[df.isnull().any()]\n",
        "null_count = df[null_columns].isnull().sum()\n",
        "\n",
        "# Drop rows with null values\n",
        "df.dropna(axis=0, inplace=True)\n",
        "df.dropna(axis=1, inplace=True)\n",
        "\n",
        "# Check if there are still null values in the dataset\n",
        "null_values_check = df.isnull().sum().sum()\n",
        "\n",
        "\n",
        "#This code calculates the sum of null values across all columns in the DataFrame df. \n",
        "# If the sum is zero, it means there are no null values in the dataset after handling. \n",
        "#Otherwise, it prints out the number of remaining null values in the dataset. \n",
        "#This verification step ensures that null values have been successfully handled according to the chosen strategy.\n",
        "if null_values_check == 0:\n",
        "    print(\"There are no null values in the dataset after handling.\")\n",
        "else:\n",
        "    print(f\"There are still {null_values_check} null values in the dataset after handling.\")\n",
        "\n",
        "# Convert numeric variables to integers\n",
        "numeric_columns = df.select_dtypes(include='number').columns\n",
        "df[numeric_columns] = df[numeric_columns].astype(int)\n"
      ]
    },
    {
      "cell_type": "markdown",
      "id": "98416351-e999-4156-9834-9b00a311adfa",
      "metadata": {
        "id": "98416351-e999-4156-9834-9b00a311adfa"
      },
      "source": [
        "## Exercise 5: Dealing with duplicates"
      ]
    },
    {
      "cell_type": "markdown",
      "id": "ea0816a7-a18e-4d4c-b667-a8452a800bd1",
      "metadata": {
        "id": "ea0816a7-a18e-4d4c-b667-a8452a800bd1"
      },
      "source": [
        "Use the `.duplicated()` method to identify any duplicate rows in the dataframe.\n",
        "\n",
        "Decide on a strategy for handling the duplicates. Options include:\n",
        "- Dropping all duplicate rows\n",
        "- Keeping only the first occurrence of each duplicated row\n",
        "- Keeping only the last occurrence of each duplicated row\n",
        "- Dropping duplicates based on a subset of columns\n",
        "- Dropping duplicates based on a specific column\n",
        "\n",
        "Implement your chosen strategy using the `drop_duplicates()` function.\n",
        "\n",
        "Verify that your strategy has successfully handled the duplicates by checking for duplicates again using `.duplicated()`.\n",
        "\n",
        "Remember to document your process and explain your reasoning for choosing a particular strategy for handling duplicates.\n",
        "\n",
        "Save the cleaned dataset to a new CSV file.\n",
        "\n",
        "*Hint*: *after dropping duplicates, reset the index to ensure consistency*."
      ]
    },
    {
      "cell_type": "code",
      "execution_count": 14,
      "id": "1929362c-47ed-47cb-baca-358b78d401a0",
      "metadata": {
        "id": "1929362c-47ed-47cb-baca-358b78d401a0"
      },
      "outputs": [
        {
          "name": "stdout",
          "output_type": "stream",
          "text": [
            "No duplicates found after dropping duplicates.\n",
            "     custateomer       state gender             education  \\\n",
            "1        QZ44356     Arizona      f              Bachelor   \n",
            "2        AI49188      Nevada      f              Bachelor   \n",
            "3        WW63253  California      m              Bachelor   \n",
            "4        GA49547  Washington      m  High School or Below   \n",
            "5        OC83172      Oregon      f              Bachelor   \n",
            "...          ...         ...    ...                   ...   \n",
            "1066     TM65736      Oregon      m                Master   \n",
            "1067     VJ51327  california      f  High School or Below   \n",
            "1068     GS98873     Arizona      f              Bachelor   \n",
            "1069     CW49887  California      f                Master   \n",
            "1070     MY31220  California      f               College   \n",
            "\n",
            "     custateomer_lifetime_value   income  monthly_premium_auto  \\\n",
            "1                    697953.59%      0.0                  94.0   \n",
            "2                   1288743.17%  48767.0                 108.0   \n",
            "3                    764586.18%      0.0                 106.0   \n",
            "4                    536307.65%  36357.0                  68.0   \n",
            "5                    825629.78%  62902.0                  69.0   \n",
            "...                         ...      ...                   ...   \n",
            "1066                 305955.03%  38644.0                  78.0   \n",
            "1067                2031499.76%  63209.0                 102.0   \n",
            "1068                 323912.47%  16061.0                  88.0   \n",
            "1069                 462680.11%  79487.0                 114.0   \n",
            "1070                 899704.02%  54230.0                 112.0   \n",
            "\n",
            "     number_of_open_complaints     policy_type  vehicle_class  \\\n",
            "1                       1/0/00   Personal Auto  Four-Door Car   \n",
            "2                       1/0/00   Personal Auto   Two-Door Car   \n",
            "3                       1/0/00  Corporate Auto            SUV   \n",
            "4                       1/0/00   Personal Auto  Four-Door Car   \n",
            "5                       1/0/00   Personal Auto   Two-Door Car   \n",
            "...                        ...             ...            ...   \n",
            "1066                    1/1/00   Personal Auto  Four-Door Car   \n",
            "1067                    1/2/00   Personal Auto            SUV   \n",
            "1068                    1/0/00   Personal Auto  Four-Door Car   \n",
            "1069                    1/0/00    Special Auto            SUV   \n",
            "1070                    1/0/00   Personal Auto   Two-Door Car   \n",
            "\n",
            "      total_claim_amount  \n",
            "1            1131.464935  \n",
            "2             566.472247  \n",
            "3             529.881344  \n",
            "4              17.269323  \n",
            "5             159.383042  \n",
            "...                  ...  \n",
            "1066          361.455219  \n",
            "1067          207.320041  \n",
            "1068          633.600000  \n",
            "1069          547.200000  \n",
            "1070          537.600000  \n",
            "\n",
            "[952 rows x 11 columns]\n"
          ]
        }
      ],
      "source": [
        "# Keep only the first occurrence of each duplicated row\n",
        "duplicates_after_drop = df.duplicated().sum()\n",
        "if duplicates_after_drop == 0:\n",
        "    print(\"No duplicates found after dropping duplicates.\")\n",
        "else:\n",
        "    print(f\"There are still {duplicates_after_drop} duplicates after dropping duplicates.\")\n",
        "\n",
        "# Display the DataFrame after removing duplicate rows\n",
        "print(df)\n",
        "\n",
        "#df.drop_duplicates(keep='first', inplace=True) drops duplicate rows from the DataFrame, keeping only the first occurrence of each duplicated row. The parameter keep='first' ensures that only the first occurrence of duplicated rows is kept.\n",
        "#The inplace=True parameter modifies the DataFrame in place, so there's no need to assign the result back to df.\n",
        "#After executing this code, the DataFrame df will contain only the first occurrence of each duplicated row.\n",
        "\n",
        "# Reset index to ensure consistency\n",
        "df.reset_index(drop=True, inplace=True)\n",
        "\n",
        "# Save the cleaned dataset to a new CSV file\n",
        "df.to_csv('cleaned_data.csv', index=False)"
      ]
    },
    {
      "cell_type": "markdown",
      "id": "60840701-4783-40e2-b4d8-55303f9100c9",
      "metadata": {
        "id": "60840701-4783-40e2-b4d8-55303f9100c9"
      },
      "source": [
        "# Bonus: Challenge 2: creating functions on a separate `py` file"
      ]
    },
    {
      "cell_type": "markdown",
      "id": "9d1adb3a-17cf-4899-8041-da21a4337fb4",
      "metadata": {
        "id": "9d1adb3a-17cf-4899-8041-da21a4337fb4"
      },
      "source": [
        "Put all the data cleaning and formatting steps into functions, and create a main function that performs all the cleaning and formatting.\n",
        "\n",
        "Write these functions in separate .py file(s). By putting these steps into functions, we can make the code more modular and easier to maintain."
      ]
    },
    {
      "cell_type": "markdown",
      "id": "0e170dc2-b62c-417a-8248-e63ed18a70c4",
      "metadata": {
        "id": "0e170dc2-b62c-417a-8248-e63ed18a70c4"
      },
      "source": [
        "*Hint: autoreload module is a utility module in Python that allows you to automatically reload modules in the current session when changes are made to the source code. This can be useful in situations where you are actively developing code and want to see the effects of changes you make without having to constantly restart the Python interpreter or Jupyter Notebook kernel.*"
      ]
    },
    {
      "cell_type": "code",
      "execution_count": 16,
      "id": "a52c6dfc-cd11-4d01-bda4-f719fa33e9a4",
      "metadata": {
        "id": "a52c6dfc-cd11-4d01-bda4-f719fa33e9a4"
      },
      "outputs": [
        {
          "ename": "SyntaxError",
          "evalue": "invalid syntax (387855299.py, line 3)",
          "output_type": "error",
          "traceback": [
            "\u001b[0;36m  Cell \u001b[0;32mIn[16], line 3\u001b[0;36m\u001b[0m\n\u001b[0;31m    def load_data(Users/armeniphone/Desktop/Ironhack/week_2_pandas):\u001b[0m\n\u001b[0m                       ^\u001b[0m\n\u001b[0;31mSyntaxError\u001b[0m\u001b[0;31m:\u001b[0m invalid syntax\n"
          ]
        }
      ],
      "source": [
        "import pandas as pd\n",
        "\n",
        "def load_data(Users/armeniphone/Desktop/Ironhack/week_2_pandas):\n",
        "    \"\"\"\n",
        "    Load data from a CSV file into a DataFrame.\n",
        "    \"\"\"\n",
        "    df = pd.read_csv(Users/armeniphone/Desktop/Ironhack/week_2_pandas)\n",
        "    return df\n",
        "\n",
        "def clean_data(df):\n",
        "    \"\"\"\n",
        "    Perform data cleaning and formatting steps.\n",
        "    \"\"\"\n",
        "    # Clean and format the data here\n",
        "    # For example:\n",
        "    # Fill null values, handle inconsistent values, convert data types, drop duplicates, etc.\n",
        "\n",
        "    return df\n",
        "\n",
        "def save_cleaned_data(df, Users/armeniphone/Desktop/Ironhack/week_2_pandas):\n",
        "    \"\"\"\n",
        "    Save the cleaned DataFrame to a new CSV file.\n",
        "    \"\"\"\n",
        "    df.to_csv(Users/armeniphone/Desktop/Ironhack/week_2_pandas, index=False)\n"
      ]
    },
    {
      "cell_type": "code",
      "execution_count": null,
      "metadata": {},
      "outputs": [],
      "source": [
        "from cleaning_functions import load_data, clean_data, save_cleaned_data\n",
        "\n",
        "def main():\n",
        "    # Load data\n",
        "    Users/armeniphone/Desktop/Ironhack/week_2_pandas = 'your_data.csv'\n",
        "    df = load_data(Users/armeniphone/Desktop/Ironhack/week_2_pandas)\n",
        "\n",
        "    # Perform data cleaning and formatting\n",
        "    df = clean_data(df)\n",
        "\n",
        "    # Save cleaned data to a new CSV file\n",
        "    cleaned_file_path = 'cleaned_data.csv'\n",
        "    save_cleaned_data(df, cleaned_file_path)\n",
        "\n",
        "if __name__ == \"__main__\":\n",
        "    main()\n"
      ]
    },
    {
      "cell_type": "markdown",
      "id": "80f846bb-3f5e-4ca2-96c0-900728daca5a",
      "metadata": {
        "id": "80f846bb-3f5e-4ca2-96c0-900728daca5a",
        "tags": []
      },
      "source": [
        "# Bonus: Challenge 3: Analyzing Clean and Formated Data"
      ]
    },
    {
      "cell_type": "markdown",
      "id": "9021630e-cc90-446c-b5bd-264d6c864207",
      "metadata": {
        "id": "9021630e-cc90-446c-b5bd-264d6c864207"
      },
      "source": [
        "You have been tasked with analyzing the data to identify potential areas for improving customer retention and profitability. Your goal is to identify customers with a high policy claim amount and a low customer lifetime value.\n",
        "\n",
        "In the Pandas Lab, we only looked at high policy claim amounts because we couldn't look into low customer lifetime values. If we had tried to work with that column, we wouldn't have been able to because customer lifetime value wasn't clean and in its proper format. So after cleaning and formatting the data, let's get some more interesting insights!\n",
        "\n",
        "Instructions:\n",
        "\n",
        "- Review the statistics again for total claim amount and customer lifetime value to gain an understanding of the data.\n",
        "- To identify potential areas for improving customer retention and profitability, we want to focus on customers with a high policy claim amount and a low customer lifetime value. Consider customers with a high policy claim amount to be those in the top 25% of the total claim amount, and clients with a low customer lifetime value to be those in the bottom 25% of the customer lifetime value. Create a pandas DataFrame object that contains information about customers with a policy claim amount greater than the 75th percentile and a customer lifetime value in the bottom 25th percentile.\n",
        "- Use DataFrame methods to calculate summary statistics about the high policy claim amount and low customer lifetime value data. To do so, select both columns of the dataframe simultaneously and pass it to the `.describe()` method. This will give you descriptive statistics, such as mean, median, standard deviation, minimum and maximum values for both columns at the same time, allowing you to compare and analyze their characteristics."
      ]
    },
    {
      "cell_type": "code",
      "execution_count": null,
      "id": "211e82b5-461a-4d6f-8a23-4deccb84173c",
      "metadata": {
        "id": "211e82b5-461a-4d6f-8a23-4deccb84173c"
      },
      "outputs": [],
      "source": [
        "import pandas as pd\n",
        "\n",
        "# Load the cleaned data\n",
        "df = pd.read_csv('cleaned_data.csv')\n",
        "\n",
        "# Review statistics for total claim amount and customer lifetime value\n",
        "claim_amount_stats = df['total_claim_amount'].describe()\n",
        "customer_lifetime_value_stats = df['customer_lifetime_value'].describe()\n",
        "\n",
        "print(\"Total Claim Amount Statistics:\")\n",
        "print(claim_amount_stats)\n",
        "print(\"\\nCustomer Lifetime Value Statistics:\")\n",
        "print(customer_lifetime_value_stats)\n",
        "\n",
        "# Identify customers with a high policy claim amount (top 25%) and low customer lifetime value (bottom 25%)\n",
        "claim_amount_threshold = df['total_claim_amount'].quantile(0.75)\n",
        "customer_lifetime_value_threshold = df['customer_lifetime_value'].quantile(0.25)\n",
        "\n",
        "high_claim_low_value_customers = df[\n",
        "    (df['total_claim_amount'] > claim_amount_threshold) & \n",
        "    (df['customer_lifetime_value'] < customer_lifetime_value_threshold)\n",
        "]\n",
        "\n",
        "# Calculate summary statistics for high policy claim amount and low customer lifetime value data\n",
        "summary_statistics = high_claim_low_value_customers[['total_claim_amount', 'customer_lifetime_value']].describe()\n",
        "\n",
        "print(\"\\nSummary Statistics for High Claim Amount and Low Customer Lifetime Value Customers:\")\n",
        "print(summary_statistics)\n"
      ]
    }
  ],
  "metadata": {
    "colab": {
      "provenance": []
    },
    "kernelspec": {
      "display_name": "Python 3 (ipykernel)",
      "language": "python",
      "name": "python3"
    },
    "language_info": {
      "codemirror_mode": {
        "name": "ipython",
        "version": 3
      },
      "file_extension": ".py",
      "mimetype": "text/x-python",
      "name": "python",
      "nbconvert_exporter": "python",
      "pygments_lexer": "ipython3",
      "version": "3.12.0"
    }
  },
  "nbformat": 4,
  "nbformat_minor": 5
}
